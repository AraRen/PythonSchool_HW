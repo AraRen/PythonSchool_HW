{
 "cells": [
  {
   "cell_type": "code",
   "execution_count": 1,
   "metadata": {},
   "outputs": [
    {
     "name": "stdout",
     "output_type": "stream",
     "text": [
      "10 的因數:\n",
      "1\n",
      "2\n",
      "3\n",
      "4\n",
      "5\n",
      "6\n",
      "7\n",
      "8\n",
      "9\n",
      "10\n"
     ]
    }
   ],
   "source": [
    "#所有因數\n",
    "import pyinputplus as pyip\n",
    "num = int(input(\"請輸入整數，求所有因數:\"))\n",
    "print(num,\"的因數:\")\n",
    "for i in range(1,num+1):\n",
    "    if num %1 == 0:\n",
    "        print(i)"
   ]
  },
  {
   "cell_type": "code",
   "execution_count": 2,
   "metadata": {},
   "outputs": [
    {
     "name": "stdout",
     "output_type": "stream",
     "text": [
      "請輸入2數,求2數公因數:\n",
      "5 和 25 的公因數是:\n",
      "1\n",
      "5\n"
     ]
    }
   ],
   "source": [
    "#求公因數\n",
    "import pyinputplus as pyip\n",
    "print(\"請輸入2數,求2數公因數:\")\n",
    "n = int(input('請輸入第1個數:'))\n",
    "m = int(input('請輸入第2個數:'))\n",
    "if n > m:\n",
    "  num = m\n",
    "else:\n",
    "  num = n\n",
    "\n",
    "#num是2數的最小值\n",
    "print(n,'和',m, '的公因數是:')\n",
    "for i in range(1,num+1):\n",
    "  if n % i == 0 and m % i == 0:\n",
    "    print(i)"
   ]
  },
  {
   "cell_type": "code",
   "execution_count": 3,
   "metadata": {},
   "outputs": [
    {
     "name": "stdout",
     "output_type": "stream",
     "text": [
      "請輸入end值:2到100的質數是:\n",
      "2 3 5 7 11 13 17 19 23 29 31 37 41 43 47 53 59 61 67 71 73 79 83 89 97 "
     ]
    }
   ],
   "source": [
    "#2~100,每一個的質數\n",
    "import pyinputplus as pyip\n",
    "end = pyip.inputInt(f\"請輸入end值:\",min=2,max=100)\n",
    "print(f\"2到{end}的質數是:\")\n",
    "for num in range(2,end+1):\n",
    "    is_prime = True\n",
    "    for i in range(2,num):\n",
    "        if num % i == 0:\n",
    "            is_prime = False\n",
    "\n",
    "    if is_prime:\n",
    "        print(f\"{num}\",end=\" \")"
   ]
  }
 ],
 "metadata": {
  "kernelspec": {
   "display_name": ".venv",
   "language": "python",
   "name": "python3"
  },
  "language_info": {
   "codemirror_mode": {
    "name": "ipython",
    "version": 3
   },
   "file_extension": ".py",
   "mimetype": "text/x-python",
   "name": "python",
   "nbconvert_exporter": "python",
   "pygments_lexer": "ipython3",
   "version": "3.10.8"
  },
  "orig_nbformat": 4
 },
 "nbformat": 4,
 "nbformat_minor": 2
}

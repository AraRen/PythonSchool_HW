{
 "cells": [
  {
   "cell_type": "code",
   "execution_count": 6,
   "metadata": {},
   "outputs": [
    {
     "name": "stdout",
     "output_type": "stream",
     "text": [
      "===============猜數字遊戲=================:\n",
      "\n",
      "您猜中了，答案是70\n",
      "您總共猜了1次\n"
     ]
    }
   ],
   "source": [
    "#- 猜中要告知猜了幾次\n",
    "#- 沒猜中要有提醒\n",
    "#例如:\n",
    "\n",
    "#要猜的數值是:34\n",
    "\n",
    "#猜數字範圍1~100:50\n",
    "#提示:\n",
    "#再小一點\n",
    "#您已經猜了1次\n",
    "\n",
    "#猜數字範圍1~49:10\n",
    "#提示:\n",
    "#再大一點\n",
    "#您已經猜了2次\n",
    "#猜數字範圍11~49:34\n",
    "\n",
    "#您猜中了,答案是34\n",
    "#您總共猜了3次\n",
    "\n",
    "\n",
    "import random\n",
    "min = 1\n",
    "max = 100\n",
    "count = 0\n",
    "target = random.randint(min, max)\n",
    "print(\"===============猜數字遊戲=================:\\n\")\n",
    "while(True):\n",
    "   count += 1\n",
    "   keyin = int(input(f\"猜數字範圍{0}~{100}:\".format(min,max)))\n",
    "   if (keyin >= min and keyin <= max):\n",
    "      if keyin == target:\n",
    "         print(f\"您猜中了，答案是{target}\")\n",
    "         print(f\"您總共猜了{count}次\")\n",
    "         break\n",
    "      elif (keyin > target):\n",
    "         max = keyin\n",
    "         print(f\"猜數字範圍{min}~{keyin}\")\n",
    "         print(f\"再小一點\")\n",
    "      elif (keyin < target):\n",
    "         min = keyin\n",
    "         print(f\"再大一點\")\n",
    "         print(f\"猜數字範圍{keyin}~{max}\")\n",
    "      print(f\"您已經猜{count}次了\\n\")\n",
    "   else:\n",
    "      print(\"請輸入範圍內的數字\")\n"
   ]
  }
 ],
 "metadata": {
  "kernelspec": {
   "display_name": ".venv",
   "language": "python",
   "name": "python3"
  },
  "language_info": {
   "codemirror_mode": {
    "name": "ipython",
    "version": 3
   },
   "file_extension": ".py",
   "mimetype": "text/x-python",
   "name": "python",
   "nbconvert_exporter": "python",
   "pygments_lexer": "ipython3",
   "version": "3.10.8"
  },
  "orig_nbformat": 4
 },
 "nbformat": 4,
 "nbformat_minor": 2
}

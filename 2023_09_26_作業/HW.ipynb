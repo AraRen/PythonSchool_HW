{
 "cells": [
  {
   "cell_type": "code",
   "execution_count": 45,
   "metadata": {},
   "outputs": [
    {
     "name": "stdout",
     "output_type": "stream",
     "text": [
      "2,2,1,2\n",
      "3\n"
     ]
    }
   ],
   "source": [
    "import random\n",
    "d1=random.randint(1,6)\n",
    "d2=random.randint(1,6)\n",
    "d3=random.randint(1,6)\n",
    "d4=random.randint(1,6)\n",
    "\n",
    "print(f'{d1},{d2},{d3},{d4}')\n",
    "if d1==d2==d3==d4:\n",
    "    print('豹子通殺')\n",
    "\n",
    "#如果有2個相同的數字，則另外2數加總\n",
    "if d1==d2:\n",
    "    r1=d3+d4\n",
    "    print(r1)\n",
    "elif d1==d3:\n",
    "    r2=d2+d4\n",
    "    print(r2)\n",
    "elif d1==d4:\n",
    "    r3=d2+d3\n",
    "    print(r3)\n",
    "elif d2==d3:\n",
    "    r4=d1+d4\n",
    "    print(r4)\n",
    "elif d2==d4:\n",
    "    r5=d1+d3\n",
    "    print(r5)\n",
    "elif d3==d4:\n",
    "    r6=d1+d2\n",
    "    print(r6)\n",
    "elif d1==d2 and d3==d4:\n",
    "    d1>d3\n",
    "    r7=d1+d2\n",
    "    print(r7)\n",
    "else:\n",
    "    print(\"再骰一次\")"
   ]
  },
  {
   "cell_type": "code",
   "execution_count": 505,
   "metadata": {},
   "outputs": [
    {
     "name": "stdout",
     "output_type": "stream",
     "text": [
      "[2, 4, 5, 6]\n",
      "您骰到的結果是:再骰一次\n"
     ]
    }
   ],
   "source": [
    "import random\n",
    "dice = sorted(random.choices(range(1,7),k=4)) \n",
    "print(dice)\n",
    "score=''\n",
    "if (dice[0] == dice[1] == dice[2] == dice[3]):\n",
    "    score = (str(dice[0])*4,'豹子')\n",
    "elif (dice[0] != dice[1] != dice[2] != dice[3]):\n",
    "    score = '再骰一次'\n",
    "elif (dice[0] == dice[1] == dice[2]) or (dice[1] == dice[2] == dice[3]) or (dice[0] == dice[2] == dice[3]) or (dice[0] == dice[1] == dice[3]):\n",
    "    score = '再骰一次'\n",
    "else:\n",
    "    if dice[0] == dice[1]:\n",
    "        score = dice[2] + dice[3]\n",
    "    elif dice[1] == dice[2]:\n",
    "        score = dice[0] + dice[3]\n",
    "    elif dice[2] == dice[3]:\n",
    "        score = dice[0] + dice[1]\n",
    "print(f'您骰到的結果是:{score}')"
   ]
  }
 ],
 "metadata": {
  "kernelspec": {
   "display_name": ".venv",
   "language": "python",
   "name": "python3"
  },
  "language_info": {
   "codemirror_mode": {
    "name": "ipython",
    "version": 3
   },
   "file_extension": ".py",
   "mimetype": "text/x-python",
   "name": "python",
   "nbconvert_exporter": "python",
   "pygments_lexer": "ipython3",
   "version": "3.10.8"
  },
  "orig_nbformat": 4
 },
 "nbformat": 4,
 "nbformat_minor": 2
}

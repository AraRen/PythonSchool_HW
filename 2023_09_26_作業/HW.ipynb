{
 "cells": [
  {
   "cell_type": "code",
   "execution_count": 509,
   "metadata": {},
   "outputs": [
    {
     "name": "stdout",
     "output_type": "stream",
     "text": [
      "[1, 3, 3, 5]\n",
      "您骰到的結果是:6\n"
     ]
    }
   ],
   "source": [
    "import random\n",
    "dice = sorted(random.choices(range(1,7),k=4)) \n",
    "print(dice)\n",
    "score=''\n",
    "if (dice[0] == dice[1] == dice[2] == dice[3]):\n",
    "    score = (str(dice[0])*4,'豹子')\n",
    "elif (dice[0] != dice[1] != dice[2] != dice[3]):\n",
    "    score = '再骰一次'\n",
    "elif (dice[0] == dice[1] == dice[2]):\n",
    "    score = '再骰一次'\n",
    "else:\n",
    "    if dice[0] == dice[1]:\n",
    "        score = dice[2] + dice[3]\n",
    "    elif dice[1] == dice[2]:\n",
    "        score = dice[0] + dice[3]\n",
    "    elif dice[2] == dice[3]:\n",
    "        score = dice[0] + dice[1]\n",
    "print(f'您骰到的結果是:{score}')"
   ]
  }
 ],
 "metadata": {
  "kernelspec": {
   "display_name": ".venv",
   "language": "python",
   "name": "python3"
  },
  "language_info": {
   "codemirror_mode": {
    "name": "ipython",
    "version": 3
   },
   "file_extension": ".py",
   "mimetype": "text/x-python",
   "name": "python",
   "nbconvert_exporter": "python",
   "pygments_lexer": "ipython3",
   "version": "3.10.8"
  },
  "orig_nbformat": 4
 },
 "nbformat": 4,
 "nbformat_minor": 2
}

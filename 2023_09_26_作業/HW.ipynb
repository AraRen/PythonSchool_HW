{
 "cells": [
  {
   "cell_type": "code",
   "execution_count": 509,
   "metadata": {},
   "outputs": [
    {
     "name": "stdout",
     "output_type": "stream",
     "text": [
      "[1, 3, 3, 5]\n",
      "您骰到的結果是:6\n"
     ]
    }
   ],
   "source": [
    "import random\n",
    "dice = sorted(random.choices(range(1,7),k=4)) \n",
    "print(dice)\n",
    "score=''\n",
    "if (dice[0] == dice[1] == dice[2] == dice[3]):\n",
    "    score = (str(dice[0])*4,'豹子')\n",
    "elif (dice[0] != dice[1] != dice[2] != dice[3]):\n",
    "    score = '再骰一次'\n",
    "elif (dice[0] == dice[1] == dice[2]):\n",
    "    score = '再骰一次'\n",
    "else:\n",
    "    if dice[0] == dice[1]:\n",
    "        score = dice[2] + dice[3]\n",
    "    elif dice[1] == dice[2]:\n",
    "        score = dice[0] + dice[3]\n",
    "    elif dice[2] == dice[3]:\n",
    "        score = dice[0] + dice[1]\n",
    "print(f'您骰到的結果是:{score}')"
   ]
  },
  {
   "cell_type": "code",
   "execution_count": 34,
   "metadata": {},
   "outputs": [
    {
     "name": "stdout",
     "output_type": "stream",
     "text": [
      "您骰出的數字為:[4, 4, 5, 4]\n",
      "可惜!再一次!\n"
     ]
    }
   ],
   "source": [
    "import random\n",
    "dice1 = random.randint(1,6)\n",
    "dice2 = random.randint(1,6)\n",
    "dice3 = random.randint(1,6)\n",
    "dice4 = random.randint(1,6)\n",
    "print(f\"您骰出的數字為:{dice}\")\n",
    "if dice1==dice2==dice3==dice4:\n",
    "    print(f\"恭喜您骰到豹子{dice1}\")\n",
    "elif dice1!=dice2!=dice3!=dice4:\n",
    "    print(f'可惜!再一次!')\n",
    "elif dice1==dice2:\n",
    "    ans=dice3+dice4\n",
    "    print(f'您的分數是:{ans}')\n",
    "elif dice1==dice3:\n",
    "    ans=dice2+dice4\n",
    "    print(f'您的分數是:{ans}')\n",
    "elif dice1==dice4:\n",
    "    ans=dice2+dice3\n",
    "    print(f'您的分數是:{ans}')\n",
    "elif dice2==dice3:\n",
    "    ans=dice1+dice4\n",
    "    print(f'您的分數是:{ans}')\n",
    "elif dice2==dice4:\n",
    "    ans=dice1+dice3\n",
    "    print(f'您的分數是:{ans}')\n",
    "elif dice3==dice4:\n",
    "    ans=dice1+dice2\n",
    "    print(f'您的分數是:{ans}')\n",
    "else:\n",
    "    print(f'可惜!再一次!')"
   ]
  }
 ],
 "metadata": {
  "kernelspec": {
   "display_name": ".venv",
   "language": "python",
   "name": "python3"
  },
  "language_info": {
   "codemirror_mode": {
    "name": "ipython",
    "version": 3
   },
   "file_extension": ".py",
   "mimetype": "text/x-python",
   "name": "python",
   "nbconvert_exporter": "python",
   "pygments_lexer": "ipython3",
   "version": "3.10.8"
  },
  "orig_nbformat": 4
 },
 "nbformat": 4,
 "nbformat_minor": 2
}

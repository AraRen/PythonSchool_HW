{
 "cells": [
  {
   "cell_type": "code",
   "execution_count": 1,
   "metadata": {},
   "outputs": [],
   "source": [
    "import random\n",
    "\n",
    "class Player:\n",
    "    def __init__(self):\n",
    "        pass\n",
    "\n",
    "    def __play() -> int:\n",
    "        pass\n",
    "\n",
    "    @property\n",
    "    def value(self) -> int:\n",
    "        #呼叫self.__play()\n",
    "        pass\n",
    "\n",
    "    def __repr__(self) -> str:\n",
    "        descript = \"\"\n",
    "        descript += \"徐國堂\\n\"\n",
    "        descript += \"骰子1=5\\n\"\n",
    "        descript += \"骰子2=3\\n\"\n",
    "        descript += \"骰子3=5\\n\"\n",
    "        descript += \"骰子4=5\\n\"\n",
    "        dsecript += \"得分=15分\"\n",
    "        return descript"
   ]
  }
 ],
 "metadata": {
  "kernelspec": {
   "display_name": ".venv",
   "language": "python",
   "name": "python3"
  },
  "language_info": {
   "codemirror_mode": {
    "name": "ipython",
    "version": 3
   },
   "file_extension": ".py",
   "mimetype": "text/x-python",
   "name": "python",
   "nbconvert_exporter": "python",
   "pygments_lexer": "ipython3",
   "version": "3.10.8"
  },
  "orig_nbformat": 4
 },
 "nbformat": 4,
 "nbformat_minor": 2
}

{
 "cells": [
  {
   "cell_type": "code",
   "execution_count": null,
   "metadata": {},
   "outputs": [],
   "source": [
    "import csv\n",
    "import psycopg2\n",
    "import password as pw\n",
    "\n",
    "# 連線到 PostgreSQL\n",
    "conn = psycopg2.connect(database=pw.DATABASE,\n",
    "                        user=pw.USER, \n",
    "                        password=pw.PASSWORD,\n",
    "                        host=pw.HOST, \n",
    "                        port=\"5432\"\n",
    ")\n",
    "cur = conn.cursor()\n",
    "# 開啟 CSV 檔\n",
    "with open(\"youbike.csv\", \"r\",encoding=\"UTF-8\") as csvfile:\n",
    "\n",
    "    # 將 CSV 檔的資料轉換為可迭代物件\n",
    "    reader = csv.reader(csvfile, delimiter=\",\")\n",
    "\n",
    "    # 使用 FOR 迴圈迭代 CSV 檔的資料\n",
    "    for row in reader:\n",
    "            cur.execute(\"INSERT INTO 台北市youbike (站點名稱,行政區,更新時間,地址,總車輛數,可借,可還) VALUES (%s, %s, %s, %s, %s, %s, %s)\",row)\n",
    "\n",
    "# 提交資料\n",
    "conn.commit()\n",
    "\n",
    "# 關閉連線\n",
    "#conn.close()"
   ]
  },
  {
   "cell_type": "code",
   "execution_count": 1,
   "metadata": {},
   "outputs": [
    {
     "ename": "NameError",
     "evalue": "name 'pw' is not defined",
     "output_type": "error",
     "traceback": [
      "\u001b[1;31m---------------------------------------------------------------------------\u001b[0m",
      "\u001b[1;31mNameError\u001b[0m                                 Traceback (most recent call last)",
      "\u001b[1;32mc:\\GitHub\\PythonSchool_HW\\2023_11_08\\test.ipynb 儲存格 2\u001b[0m line \u001b[0;36m4\n\u001b[0;32m      <a href='vscode-notebook-cell:/c%3A/GitHub/PythonSchool_HW/2023_11_08/test.ipynb#W1sZmlsZQ%3D%3D?line=0'>1</a>\u001b[0m \u001b[39mimport\u001b[39;00m \u001b[39mpsycopg2\u001b[39;00m\n\u001b[0;32m      <a href='vscode-notebook-cell:/c%3A/GitHub/PythonSchool_HW/2023_11_08/test.ipynb#W1sZmlsZQ%3D%3D?line=1'>2</a>\u001b[0m \u001b[39mimport\u001b[39;00m \u001b[39mcsv\u001b[39;00m\n\u001b[1;32m----> <a href='vscode-notebook-cell:/c%3A/GitHub/PythonSchool_HW/2023_11_08/test.ipynb#W1sZmlsZQ%3D%3D?line=3'>4</a>\u001b[0m conn \u001b[39m=\u001b[39m psycopg2\u001b[39m.\u001b[39mconnect(database\u001b[39m=\u001b[39mpw\u001b[39m.\u001b[39mDATABASE,\n\u001b[0;32m      <a href='vscode-notebook-cell:/c%3A/GitHub/PythonSchool_HW/2023_11_08/test.ipynb#W1sZmlsZQ%3D%3D?line=4'>5</a>\u001b[0m                         user\u001b[39m=\u001b[39mpw\u001b[39m.\u001b[39mUSER, \n\u001b[0;32m      <a href='vscode-notebook-cell:/c%3A/GitHub/PythonSchool_HW/2023_11_08/test.ipynb#W1sZmlsZQ%3D%3D?line=5'>6</a>\u001b[0m                         password\u001b[39m=\u001b[39mpw\u001b[39m.\u001b[39mPASSWORD,\n\u001b[0;32m      <a href='vscode-notebook-cell:/c%3A/GitHub/PythonSchool_HW/2023_11_08/test.ipynb#W1sZmlsZQ%3D%3D?line=6'>7</a>\u001b[0m                         host\u001b[39m=\u001b[39mpw\u001b[39m.\u001b[39mHOST, \n\u001b[0;32m      <a href='vscode-notebook-cell:/c%3A/GitHub/PythonSchool_HW/2023_11_08/test.ipynb#W1sZmlsZQ%3D%3D?line=7'>8</a>\u001b[0m                         port\u001b[39m=\u001b[39m\u001b[39m\"\u001b[39m\u001b[39m5432\u001b[39m\u001b[39m\"\u001b[39m)\n\u001b[0;32m     <a href='vscode-notebook-cell:/c%3A/GitHub/PythonSchool_HW/2023_11_08/test.ipynb#W1sZmlsZQ%3D%3D?line=9'>10</a>\u001b[0m cur \u001b[39m=\u001b[39m conn\u001b[39m.\u001b[39mcursor()\n\u001b[0;32m     <a href='vscode-notebook-cell:/c%3A/GitHub/PythonSchool_HW/2023_11_08/test.ipynb#W1sZmlsZQ%3D%3D?line=10'>11</a>\u001b[0m tablename \u001b[39m=\u001b[39m \u001b[39m\"\u001b[39m\u001b[39m台北市youbike(站點名稱,更新時間,行政區,地址,總車輛數,可借,可還)\u001b[39m\u001b[39m\"\u001b[39m\n",
      "\u001b[1;31mNameError\u001b[0m: name 'pw' is not defined"
     ]
    }
   ],
   "source": [
    "import psycopg2\n",
    "import csv\n",
    "import password as pw\n",
    "\n",
    "conn = psycopg2.connect(database=pw.DATABASE,\n",
    "                        user=pw.USER, \n",
    "                        password=pw.PASSWORD,\n",
    "                        host=pw.HOST, \n",
    "                        port=\"5432\")\n",
    "\n",
    "cur = conn.cursor()\n",
    "tablename = \"台北市youbike(站點名稱,更新時間,行政區,地址,總車輛數,可借,可還)\"\n",
    "csv_file = \"./youbike.csv\"\n",
    "with open(csv_file, 'r',encoding=\"UTF-8\") as f:\n",
    "    reader = csv.reader(f)\n",
    "    next(reader) # Skip the header row\n",
    "    for row in reader:\n",
    "        placeholders = \",\".join(['%s']*len(row))\n",
    "        insert_query = f\"Insert Into {tablename} Values ({placeholders})\"\n",
    "        cur.execute(insert_query,row)\n",
    "    \n",
    "conn.commit()\n",
    "# cur.close()\n",
    "# [conn.close()]"
   ]
  }
 ],
 "metadata": {
  "kernelspec": {
   "display_name": ".venv",
   "language": "python",
   "name": "python3"
  },
  "language_info": {
   "codemirror_mode": {
    "name": "ipython",
    "version": 3
   },
   "file_extension": ".py",
   "mimetype": "text/x-python",
   "name": "python",
   "nbconvert_exporter": "python",
   "pygments_lexer": "ipython3",
   "version": "3.10.8"
  }
 },
 "nbformat": 4,
 "nbformat_minor": 2
}

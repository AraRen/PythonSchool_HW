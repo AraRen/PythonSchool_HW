{
 "cells": [
  {
   "cell_type": "code",
   "execution_count": 3,
   "metadata": {},
   "outputs": [
    {
     "ename": "UndefinedTable",
     "evalue": "relation \"台北市youbike\" does not exist\nLINE 1: INSERT INTO 台北市youbike (站點名稱,行政區,更新時間,地址,總...\n                    ^\n",
     "output_type": "error",
     "traceback": [
      "\u001b[1;31m---------------------------------------------------------------------------\u001b[0m",
      "\u001b[1;31mUndefinedTable\u001b[0m                            Traceback (most recent call last)",
      "\u001b[1;32mc:\\GitHub\\PythonSchool_HW\\2023_11_08\\test.ipynb 儲存格 1\u001b[0m line \u001b[0;36m2\n\u001b[0;32m     <a href='vscode-notebook-cell:/c%3A/GitHub/PythonSchool_HW/2023_11_08/test.ipynb#W0sZmlsZQ%3D%3D?line=18'>19</a>\u001b[0m     \u001b[39m# 使用 FOR 迴圈迭代 CSV 檔的資料\u001b[39;00m\n\u001b[0;32m     <a href='vscode-notebook-cell:/c%3A/GitHub/PythonSchool_HW/2023_11_08/test.ipynb#W0sZmlsZQ%3D%3D?line=19'>20</a>\u001b[0m     \u001b[39mfor\u001b[39;00m row \u001b[39min\u001b[39;00m reader:\n\u001b[1;32m---> <a href='vscode-notebook-cell:/c%3A/GitHub/PythonSchool_HW/2023_11_08/test.ipynb#W0sZmlsZQ%3D%3D?line=20'>21</a>\u001b[0m             cur\u001b[39m.\u001b[39;49mexecute(\u001b[39m\"\u001b[39;49m\u001b[39mINSERT INTO 台北市youbike (站點名稱,行政區,更新時間,地址,總車輛數,可借,可還) VALUES (\u001b[39;49m\u001b[39m%s\u001b[39;49;00m\u001b[39m, \u001b[39;49m\u001b[39m%s\u001b[39;49;00m\u001b[39m, \u001b[39;49m\u001b[39m%s\u001b[39;49;00m\u001b[39m, \u001b[39;49m\u001b[39m%s\u001b[39;49;00m\u001b[39m, \u001b[39;49m\u001b[39m%s\u001b[39;49;00m\u001b[39m, \u001b[39;49m\u001b[39m%s\u001b[39;49;00m\u001b[39m, \u001b[39;49m\u001b[39m%s\u001b[39;49;00m\u001b[39m)\u001b[39;49m\u001b[39m\"\u001b[39;49m,row)\n\u001b[0;32m     <a href='vscode-notebook-cell:/c%3A/GitHub/PythonSchool_HW/2023_11_08/test.ipynb#W0sZmlsZQ%3D%3D?line=22'>23</a>\u001b[0m \u001b[39m# 提交資料\u001b[39;00m\n\u001b[0;32m     <a href='vscode-notebook-cell:/c%3A/GitHub/PythonSchool_HW/2023_11_08/test.ipynb#W0sZmlsZQ%3D%3D?line=23'>24</a>\u001b[0m conn\u001b[39m.\u001b[39mcommit()\n",
      "\u001b[1;31mUndefinedTable\u001b[0m: relation \"台北市youbike\" does not exist\nLINE 1: INSERT INTO 台北市youbike (站點名稱,行政區,更新時間,地址,總...\n                    ^\n"
     ]
    }
   ],
   "source": [
    "import csv\n",
    "import psycopg2\n",
    "import password as pw\n",
    "\n",
    "# 連線到 PostgreSQL\n",
    "conn = psycopg2.connect(database=pw.DATABASE,\n",
    "                        user=pw.USER, \n",
    "                        password=pw.PASSWORD,\n",
    "                        host=pw.HOST, \n",
    "                        port=\"5432\"\n",
    ")\n",
    "cur = conn.cursor()\n",
    "# 開啟 CSV 檔\n",
    "with open(\"youbike.csv\", \"r\",encoding=\"UTF-8\") as csvfile:\n",
    "\n",
    "    # 將 CSV 檔的資料轉換為可迭代物件\n",
    "    reader = csv.reader(csvfile, delimiter=\",\")\n",
    "\n",
    "    # 使用 FOR 迴圈迭代 CSV 檔的資料\n",
    "    for row in reader:\n",
    "            cur.execute(\"INSERT INTO 台北市youbike (站點名稱,行政區,更新時間,地址,總車輛數,可借,可還) VALUES (%s, %s, %s, %s, %s, %s, %s)\",row)\n",
    "\n",
    "# 提交資料\n",
    "conn.commit()\n",
    "\n",
    "# 關閉連線\n",
    "#conn.close()"
   ]
  },
  {
   "cell_type": "code",
   "execution_count": 2,
   "metadata": {},
   "outputs": [
    {
     "ename": "UndefinedTable",
     "evalue": "relation \"台北市youbike\" does not exist\nLINE 1: Insert Into 台北市youbike(站點名稱,更新時間,行政區,地址,總車...\n                    ^\n",
     "output_type": "error",
     "traceback": [
      "\u001b[1;31m---------------------------------------------------------------------------\u001b[0m",
      "\u001b[1;31mUndefinedTable\u001b[0m                            Traceback (most recent call last)",
      "\u001b[1;32mc:\\GitHub\\PythonSchool_HW\\2023_11_08\\test.ipynb 儲存格 2\u001b[0m line \u001b[0;36m2\n\u001b[0;32m     <a href='vscode-notebook-cell:/c%3A/GitHub/PythonSchool_HW/2023_11_08/test.ipynb#W1sZmlsZQ%3D%3D?line=17'>18</a>\u001b[0m         placeholders \u001b[39m=\u001b[39m \u001b[39m\"\u001b[39m\u001b[39m,\u001b[39m\u001b[39m\"\u001b[39m\u001b[39m.\u001b[39mjoin([\u001b[39m'\u001b[39m\u001b[39m%s\u001b[39;00m\u001b[39m'\u001b[39m]\u001b[39m*\u001b[39m\u001b[39mlen\u001b[39m(row))\n\u001b[0;32m     <a href='vscode-notebook-cell:/c%3A/GitHub/PythonSchool_HW/2023_11_08/test.ipynb#W1sZmlsZQ%3D%3D?line=18'>19</a>\u001b[0m         insert_query \u001b[39m=\u001b[39m \u001b[39mf\u001b[39m\u001b[39m\"\u001b[39m\u001b[39mInsert Into \u001b[39m\u001b[39m{\u001b[39;00mtablename\u001b[39m}\u001b[39;00m\u001b[39m Values (\u001b[39m\u001b[39m{\u001b[39;00mplaceholders\u001b[39m}\u001b[39;00m\u001b[39m)\u001b[39m\u001b[39m\"\u001b[39m\n\u001b[1;32m---> <a href='vscode-notebook-cell:/c%3A/GitHub/PythonSchool_HW/2023_11_08/test.ipynb#W1sZmlsZQ%3D%3D?line=19'>20</a>\u001b[0m         cur\u001b[39m.\u001b[39;49mexecute(insert_query,row)\n\u001b[0;32m     <a href='vscode-notebook-cell:/c%3A/GitHub/PythonSchool_HW/2023_11_08/test.ipynb#W1sZmlsZQ%3D%3D?line=21'>22</a>\u001b[0m conn\u001b[39m.\u001b[39mcommit()\n\u001b[0;32m     <a href='vscode-notebook-cell:/c%3A/GitHub/PythonSchool_HW/2023_11_08/test.ipynb#W1sZmlsZQ%3D%3D?line=22'>23</a>\u001b[0m \u001b[39m# cur.close()\u001b[39;00m\n\u001b[0;32m     <a href='vscode-notebook-cell:/c%3A/GitHub/PythonSchool_HW/2023_11_08/test.ipynb#W1sZmlsZQ%3D%3D?line=23'>24</a>\u001b[0m \u001b[39m# [conn.close()]\u001b[39;00m\n",
      "\u001b[1;31mUndefinedTable\u001b[0m: relation \"台北市youbike\" does not exist\nLINE 1: Insert Into 台北市youbike(站點名稱,更新時間,行政區,地址,總車...\n                    ^\n"
     ]
    }
   ],
   "source": [
    "import psycopg2\n",
    "import csv\n",
    "import password as pw\n",
    "\n",
    "conn = psycopg2.connect(database=pw.DATABASE,\n",
    "                        user=pw.USER, \n",
    "                        password=pw.PASSWORD,\n",
    "                        host=pw.HOST, \n",
    "                        port=\"5432\")\n",
    "\n",
    "cur = conn.cursor()\n",
    "tablename = \"台北市youbike(站點名稱,更新時間,行政區,地址,總車輛數,可借,可還)\"\n",
    "csv_file = \"./youbike.csv\"\n",
    "with open(csv_file, 'r',encoding=\"UTF-8\") as f:\n",
    "    reader = csv.reader(f)\n",
    "    next(reader) # Skip the header row\n",
    "    for row in reader:\n",
    "        placeholders = \",\".join(['%s']*len(row))\n",
    "        insert_query = f\"Insert Into {tablename} Values ({placeholders})\"\n",
    "        cur.execute(insert_query,row)\n",
    "    \n",
    "conn.commit()\n",
    "# cur.close()\n",
    "# [conn.close()]"
   ]
  }
 ],
 "metadata": {
  "kernelspec": {
   "display_name": ".venv",
   "language": "python",
   "name": "python3"
  },
  "language_info": {
   "codemirror_mode": {
    "name": "ipython",
    "version": 3
   },
   "file_extension": ".py",
   "mimetype": "text/x-python",
   "name": "python",
   "nbconvert_exporter": "python",
   "pygments_lexer": "ipython3",
   "version": "3.10.8"
  }
 },
 "nbformat": 4,
 "nbformat_minor": 2
}
